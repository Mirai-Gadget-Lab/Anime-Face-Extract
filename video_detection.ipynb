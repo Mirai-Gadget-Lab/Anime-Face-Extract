{
 "cells": [
  {
   "cell_type": "code",
   "execution_count": 1,
   "id": "broken-delicious",
   "metadata": {
    "ExecuteTime": {
     "end_time": "2021-03-16T15:18:28.023167Z",
     "start_time": "2021-03-16T15:18:25.475816Z"
    }
   },
   "outputs": [],
   "source": [
    "import os\n",
    "import cv2\n",
    "import sys\n",
    "import glob\n",
    "import json\n",
    "import time\n",
    "import random\n",
    "import hashlib\n",
    "import imutils\n",
    "import argparse\n",
    "import numpy as np\n",
    "from glob import glob\n",
    "import pandas as pd\n",
    "import matplotlib.pyplot as plt\n",
    "\n",
    "from tqdm import tqdm\n",
    "from collections import defaultdict\n",
    "\n",
    "from core.detector import LFFDDetector"
   ]
  },
  {
   "cell_type": "code",
   "execution_count": 2,
   "id": "invalid-finger",
   "metadata": {
    "ExecuteTime": {
     "end_time": "2021-03-16T15:18:28.162599Z",
     "start_time": "2021-03-16T15:18:28.026031Z"
    }
   },
   "outputs": [
    {
     "name": "stdout",
     "output_type": "stream",
     "text": [
      "Wed Mar 17 00:18:28 2021: Initializing.\n",
      "Wed Mar 17 00:18:28 2021: Initialized (0.1126 seconds).\n"
     ]
    }
   ],
   "source": [
    "# Setting\n",
    "detector_path = \"configs/anime.json\"\n",
    "use_gpu = 0\n",
    "size = None\n",
    "confidence_threshold = None\n",
    "nms_threshold = None\n",
    "fps = None\n",
    "run_per_x_frames = 120\n",
    "frame_count = None\n",
    "\n",
    "with open(detector_path, \"r\") as f:\n",
    "    config = json.load(f)\n",
    "if use_gpu > 0:\n",
    "    use_gpu = True\n",
    "else:\n",
    "    use_gpu = False\n",
    "detector = LFFDDetector(config, use_gpu=use_gpu)"
   ]
  },
  {
   "cell_type": "code",
   "execution_count": 3,
   "id": "ranking-margin",
   "metadata": {
    "ExecuteTime": {
     "end_time": "2021-03-16T15:18:28.194512Z",
     "start_time": "2021-03-16T15:18:28.166586Z"
    }
   },
   "outputs": [],
   "source": [
    "# 모든 데이터(영상)의 주소를 딕셔너리 형태로 리턴\n",
    "def get_all_videos():\n",
    "    d = {}\n",
    "    root_path = glob(\"./data/*\")\n",
    "    for i in range(len(root_path)):\n",
    "        root_path[i] = root_path[i].replace('\\\\', '/')\n",
    "    for path in root_path:\n",
    "        li = []\n",
    "        for file_path in glob(f\"{path}/*\"):\n",
    "            t = file_path.replace('\\\\', '/')\n",
    "            if t not in li:\n",
    "                li.append(t)\n",
    "        li.sort()\n",
    "        d[path+'/'] = li\n",
    "    cnt = 0\n",
    "    for file_path, file_names in d.items():\n",
    "        print(f\"{file_path}: {file_names}\")\n",
    "        cnt += len(file_names)\n",
    "    print(f\"\\n{cnt} Videos found\\n\")\n",
    "\n",
    "    return d"
   ]
  },
  {
   "cell_type": "code",
   "execution_count": 4,
   "id": "intellectual-grave",
   "metadata": {
    "ExecuteTime": {
     "end_time": "2021-03-16T15:18:28.226426Z",
     "start_time": "2021-03-16T15:18:28.197504Z"
    }
   },
   "outputs": [],
   "source": [
    "def face_detection(df, video_path, output_path, detector, size=None, confidence_threshold=None, nms_threshold=None, roi=(), frame_count=None, run_per_x_frames=120, fps=None):\n",
    "    cap = cv2.VideoCapture(video_path)\n",
    "    fc = cap.get(cv2.CAP_PROP_FRAME_COUNT)\n",
    "    fps = fps or cap.get(cv2.CAP_PROP_FPS) / run_per_x_frames\n",
    "    frame_width = int(cap.get(cv2.CAP_PROP_FRAME_WIDTH))\n",
    "    frame_height = int(cap.get(cv2.CAP_PROP_FRAME_HEIGHT))\n",
    "    if roi:\n",
    "        xmin, ymin, xmax, ymax = roi\n",
    "        frame_width, frame_height = xmax - xmin, ymax - ymin\n",
    "    else:\n",
    "        xmin = 0\n",
    "        ymin = 0\n",
    "        xmax = frame_width\n",
    "        ymax = frame_height\n",
    "    fourcc = cv2.VideoWriter_fourcc(*\"mp4v\")\n",
    "    fc = frame_count or fc\n",
    "    frame_count = fc\n",
    "    bar = tqdm(total=int(frame_count))\n",
    "\n",
    "    if not os.path.exists(output_path):\n",
    "        os.makedirs(output_path)\n",
    "    cnt = len(glob(f\"{output_path}*\"))-1\n",
    "    if cnt < 0:\n",
    "        cnt += 1\n",
    "    while True:\n",
    "        ret = cap.grab()\n",
    "        frame_idx = cap.get(cv2.CAP_PROP_POS_FRAMES)\n",
    "        if not ret or frame_idx > frame_count:\n",
    "            break\n",
    "        if int(frame_idx) % run_per_x_frames != 0:\n",
    "            bar.update()\n",
    "            continue\n",
    "\n",
    "        _, frame = cap.retrieve()\n",
    "        boxes = detector.detect(frame, size=size, confidence_threshold=confidence_threshold, nms_threshold=nms_threshold)\n",
    "        if boxes:\n",
    "            s = \"\"\n",
    "            for i in range(len(boxes)):\n",
    "                xmin, ymin, xmax, ymax = boxes[i][\"xmin\"], boxes[i][\"ymin\"], boxes[i][\"xmax\"], boxes[i][\"ymax\"]\n",
    "                s += f\"{ymin}|{xmin}|{ymax}|{xmax}/\"\n",
    "            df.loc[len(df)] = [f\"{output_path}{cnt}.jpg\", s]\n",
    "            cv2.imwrite(f\"{output_path}/{cnt}.jpg\", frame)\n",
    "            cnt += 1\n",
    "        bar.update()\n",
    "    bar.close()\n",
    "    cap.release()\n",
    "    df.to_csv( f\"{output_path}ROI.csv\", encoding='euc-kr')\n",
    "    \n",
    "    return cnt"
   ]
  },
  {
   "cell_type": "code",
   "execution_count": 5,
   "id": "biblical-details",
   "metadata": {
    "ExecuteTime": {
     "end_time": "2021-03-16T15:18:28.242385Z",
     "start_time": "2021-03-16T15:18:28.229421Z"
    },
    "scrolled": false
   },
   "outputs": [],
   "source": [
    "# input_path = \"data/Kaguya/Kaguya1.mp4\"\n",
    "# output_path = \"result/Kaguya/\"\n",
    "# df = pd.DataFrame(columns=(\"image_path\",\"ROI\"))\n",
    "# face_detection(df, input_path, output_path, detector, size=size,\n",
    "#     confidence_threshold=confidence_threshold, nms_threshold=nms_threshold,\n",
    "#     frame_count=frame_count, run_per_x_frames=run_per_x_frames, fps=fps\n",
    "# )"
   ]
  },
  {
   "cell_type": "code",
   "execution_count": 6,
   "id": "behind-regular",
   "metadata": {
    "ExecuteTime": {
     "end_time": "2021-03-16T15:35:32.313846Z",
     "start_time": "2021-03-16T15:18:28.245377Z"
    },
    "scrolled": true
   },
   "outputs": [
    {
     "name": "stderr",
     "output_type": "stream",
     "text": [
      "  0%|▏                                                                             | 82/38148 [00:00<00:48, 783.05it/s]"
     ]
    },
    {
     "name": "stdout",
     "output_type": "stream",
     "text": [
      "./data/Kaguya/: ['./data/Kaguya/Kaguya1.mp4']\n",
      "./data/PrincessConnectReDive/: ['./data/PrincessConnectReDive/PrincessConnectReDive1.mp4']\n",
      "./data/ReZeroFrozenBonds/: ['./data/ReZeroFrozenBonds/ReZeroFrozenBonds.mkv']\n",
      "./data/SteinsGate/: ['./data/SteinsGate/SteinsGate1.mp4']\n",
      "\n",
      "4 Videos found\n",
      "\n",
      "Kaguya Start\n",
      "file_path: ./data/Kaguya/\n",
      "file name: ./data/Kaguya/Kaguya1.mp4\n",
      "output_path: result/Kaguya/ \n",
      "\n"
     ]
    },
    {
     "name": "stderr",
     "output_type": "stream",
     "text": [
      "100%|███████████████████████████████████████████████████████████████████████████| 38148/38148 [02:07<00:00, 298.15it/s]\n",
      "  0%|▏                                                                             | 60/34526 [00:00<01:02, 551.93it/s]"
     ]
    },
    {
     "name": "stdout",
     "output_type": "stream",
     "text": [
      "Kaguya 총 168개 저장됨.\n",
      "\n",
      "PrincessConnectReDive Start\n",
      "file_path: ./data/PrincessConnectReDive/\n",
      "file name: ./data/PrincessConnectReDive/PrincessConnectReDive1.mp4\n",
      "output_path: result/PrincessConnectReDive/ \n",
      "\n"
     ]
    },
    {
     "name": "stderr",
     "output_type": "stream",
     "text": [
      "100%|███████████████████████████████████████████████████████████████████████████| 34526/34526 [02:11<00:00, 263.40it/s]\n",
      "  0%|                                                                             | 30/114163 [00:00<06:26, 295.01it/s]"
     ]
    },
    {
     "name": "stdout",
     "output_type": "stream",
     "text": [
      "PrincessConnectReDive 총 174개 저장됨.\n",
      "\n",
      "ReZeroFrozenBonds Start\n",
      "file_path: ./data/ReZeroFrozenBonds/\n",
      "file name: ./data/ReZeroFrozenBonds/ReZeroFrozenBonds.mkv\n",
      "output_path: result/ReZeroFrozenBonds/ \n",
      "\n"
     ]
    },
    {
     "name": "stderr",
     "output_type": "stream",
     "text": [
      "100%|█████████████████████████████████████████████████████████████████████████| 114163/114163 [10:45<00:00, 176.91it/s]\n",
      "  0%|                                                                              | 47/34432 [00:00<01:16, 450.04it/s]"
     ]
    },
    {
     "name": "stdout",
     "output_type": "stream",
     "text": [
      "ReZeroFrozenBonds 총 308개 저장됨.\n",
      "\n",
      "SteinsGate Start\n",
      "file_path: ./data/SteinsGate/\n",
      "file name: ./data/SteinsGate/SteinsGate1.mp4\n",
      "output_path: result/SteinsGate/ \n",
      "\n"
     ]
    },
    {
     "name": "stderr",
     "output_type": "stream",
     "text": [
      "100%|███████████████████████████████████████████████████████████████████████████| 34432/34432 [01:59<00:00, 288.21it/s]"
     ]
    },
    {
     "name": "stdout",
     "output_type": "stream",
     "text": [
      "SteinsGate 총 149개 저장됨.\n",
      "\n"
     ]
    },
    {
     "name": "stderr",
     "output_type": "stream",
     "text": [
      "\n"
     ]
    }
   ],
   "source": [
    "# Processing All\n",
    "d = get_all_videos()\n",
    "for file_path, file_names in d.items():\n",
    "    anime_name = file_path.split('/')[-2]\n",
    "    output_path = f\"./result/{anime_name}/\"\n",
    "    print(f\"{anime_name} Start\")\n",
    "    df = pd.DataFrame(columns=(\"image_path\",\"ROI\"))\n",
    "    for input_path in file_names:\n",
    "        print(\"file_path:\", file_path)\n",
    "        print(\"file name:\", input_path)\n",
    "        print(\"output_path:\", output_path, '\\n')\n",
    "        cnt = face_detection(df, input_path, output_path, detector, size=size,\n",
    "        confidence_threshold=confidence_threshold, nms_threshold=nms_threshold,\n",
    "        frame_count=frame_count, run_per_x_frames=run_per_x_frames, fps=fps\n",
    "        )\n",
    "        print(f\"{anime_name} 총 {cnt}개 저장됨.\\n\")"
   ]
  },
  {
   "cell_type": "code",
   "execution_count": null,
   "id": "atmospheric-senate",
   "metadata": {},
   "outputs": [],
   "source": []
  }
 ],
 "metadata": {
  "kernelspec": {
   "display_name": "Python 3",
   "language": "python",
   "name": "python3"
  },
  "language_info": {
   "codemirror_mode": {
    "name": "ipython",
    "version": 3
   },
   "file_extension": ".py",
   "mimetype": "text/x-python",
   "name": "python",
   "nbconvert_exporter": "python",
   "pygments_lexer": "ipython3",
   "version": "3.6.12"
  },
  "toc": {
   "base_numbering": 1,
   "nav_menu": {},
   "number_sections": true,
   "sideBar": true,
   "skip_h1_title": false,
   "title_cell": "Table of Contents",
   "title_sidebar": "Contents",
   "toc_cell": false,
   "toc_position": {},
   "toc_section_display": true,
   "toc_window_display": false
  },
  "varInspector": {
   "cols": {
    "lenName": 16,
    "lenType": 16,
    "lenVar": 40
   },
   "kernels_config": {
    "python": {
     "delete_cmd_postfix": "",
     "delete_cmd_prefix": "del ",
     "library": "var_list.py",
     "varRefreshCmd": "print(var_dic_list())"
    },
    "r": {
     "delete_cmd_postfix": ") ",
     "delete_cmd_prefix": "rm(",
     "library": "var_list.r",
     "varRefreshCmd": "cat(var_dic_list()) "
    }
   },
   "types_to_exclude": [
    "module",
    "function",
    "builtin_function_or_method",
    "instance",
    "_Feature"
   ],
   "window_display": false
  }
 },
 "nbformat": 4,
 "nbformat_minor": 5
}
